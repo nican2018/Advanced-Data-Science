{
    "cells": [
        {
            "cell_type": "code",
            "execution_count": 1,
            "metadata": {},
            "outputs": [
                {
                    "name": "stdout",
                    "output_type": "stream",
                    "text": "Looking in links: https://download.pytorch.org/whl/torch_stable.html\nCollecting torch==1.5.0+cpu\n\u001b[?25l  Downloading https://download.pytorch.org/whl/cpu/torch-1.5.0%2Bcpu-cp36-cp36m-linux_x86_64.whl (127.3MB)\n\u001b[K     |\u2588\u2588\u2588\u2588\u2588\u2588\u2588\u2588\u2588\u2588\u2588\u2588\u2588\u2588\u2588\u2588\u2588\u2588\u2588\u2588\u2588\u2588\u2588\u2588\u2588\u2588\u2588\u2588\u2588\u2588\u2588\u2588| 127.3MB 82kB/s  eta 0:00:01   |\u2588\u2589                              | 7.1MB 1.7MB/s eta 0:01:12     |\u2588\u2588\u2588\u2589                            | 15.2MB 16.2MB/s eta 0:00:07     |\u2588\u2588\u2588\u2588\u2589                           | 19.3MB 22.6MB/s eta 0:00:05     |\u2588\u2588\u2588\u2588\u2588\u2588                          | 23.9MB 22.6MB/s eta 0:00:05     |\u2588\u2588\u2588\u2588\u2588\u2588\u258d                         | 25.2MB 22.6MB/s eta 0:00:05     |\u2588\u2588\u2588\u2588\u2588\u2588\u258d                         | 25.5MB 22.6MB/s eta 0:00:05     |\u2588\u2588\u2588\u2588\u2588\u2588\u258c                         | 25.8MB 3.8MB/s eta 0:00:27     |\u2588\u2588\u2588\u2588\u2588\u2588\u2588\u258d                        | 29.4MB 3.8MB/s eta 0:00:26     |\u2588\u2588\u2588\u2588\u2588\u2588\u2588\u258a                        | 30.6MB 3.8MB/s eta 0:00:26     |\u2588\u2588\u2588\u2588\u2588\u2588\u2588\u2588                        | 31.9MB 3.8MB/s eta 0:00:25     |\u2588\u2588\u2588\u2588\u2588\u2588\u2588\u2588                        | 32.3MB 3.8MB/s eta 0:00:25     |\u2588\u2588\u2588\u2588\u2588\u2588\u2588\u2588\u258b                       | 34.1MB 14.4MB/s eta 0:00:07     |\u2588\u2588\u2588\u2588\u2588\u2588\u2588\u2588\u2588\u258a                      | 38.9MB 14.4MB/s eta 0:00:07     |\u2588\u2588\u2588\u2588\u2588\u2588\u2588\u2588\u2588\u2588                      | 39.6MB 14.4MB/s eta 0:00:07     |\u2588\u2588\u2588\u2588\u2588\u2588\u2588\u2588\u2588\u2588                      | 39.9MB 6.1MB/s eta 0:00:15     |\u2588\u2588\u2588\u2588\u2588\u2588\u2588\u2588\u2588\u2588\u258e                     | 41.0MB 6.1MB/s eta 0:00:15     |\u2588\u2588\u2588\u2588\u2588\u2588\u2588\u2588\u2588\u2588\u258c                     | 41.8MB 6.1MB/s eta 0:00:15     |\u2588\u2588\u2588\u2588\u2588\u2588\u2588\u2588\u2588\u2588\u258a                     | 42.6MB 6.1MB/s eta 0:00:14     |\u2588\u2588\u2588\u2588\u2588\u2588\u2588\u2588\u2588\u2588\u2588                     | 43.8MB 6.1MB/s eta 0:00:14     |\u2588\u2588\u2588\u2588\u2588\u2588\u2588\u2588\u2588\u2588\u2588\u258c                    | 45.8MB 6.1MB/s eta 0:00:14     |\u2588\u2588\u2588\u2588\u2588\u2588\u2588\u2588\u2588\u2588\u2588\u2589                    | 47.0MB 6.7MB/s eta 0:00:13     |\u2588\u2588\u2588\u2588\u2588\u2588\u2588\u2588\u2588\u2588\u2588\u2588                    | 47.9MB 6.7MB/s eta 0:00:12     |\u2588\u2588\u2588\u2588\u2588\u2588\u2588\u2588\u2588\u2588\u2588\u2588\u258b                   | 50.3MB 6.7MB/s eta 0:00:12     |\u2588\u2588\u2588\u2588\u2588\u2588\u2588\u2588\u2588\u2588\u2588\u2588\u2589                   | 51.1MB 6.7MB/s eta 0:00:12.1MB/s eta 0:00:11     |\u2588\u2588\u2588\u2588\u2588\u2588\u2588\u2588\u2588\u2588\u2588\u2588\u2588\u2588\u2588\u258f                | 60.2MB 7.1MB/s eta 0:00:10     |\u2588\u2588\u2588\u2588\u2588\u2588\u2588\u2588\u2588\u2588\u2588\u2588\u2588\u2588\u2588\u2588\u258e               | 64.7MB 6.2MB/s eta 0:00:11     |\u2588\u2588\u2588\u2588\u2588\u2588\u2588\u2588\u2588\u2588\u2588\u2588\u2588\u2588\u2588\u2588\u2588\u2588\u2589             | 74.8MB 2.6MB/s eta 0:00:21     |\u2588\u2588\u2588\u2588\u2588\u2588\u2588\u2588\u2588\u2588\u2588\u2588\u2588\u2588\u2588\u2588\u2588\u2588\u2588\u2588\u2588\u258e          | 84.5MB 6.2MB/s eta 0:00:07\ufffd\ufffd\u2588\u2588\u2588\u2588\u2588\u2588\u258f         | 88.3MB 6.2MB/s eta 0:00:07 0:00:07\ufffd\ufffd\u2588\u2588\u2588\u2588\u2588\u2588\u258a         | 90.2MB 6.2MB/s eta 0:00:06     |\u2588\u2588\u2588\u2588\u2588\u2588\u2588\u2588\u2588\u2588\u2588\u2588\u2588\u2588\u2588\u2588\u2588\u2588\u2588\u2588\u2588\u2588\u2588\u258d        | 93.1MB 4.5MB/s eta 0:00:08     |\u2588\u2588\u2588\u2588\u2588\u2588\u2588\u2588\u2588\u2588\u2588\u2588\u2588\u2588\u2588\u2588\u2588\u2588\u2588\u2588\u2588\u2588\u2588\u258b        | 93.8MB 4.5MB/s eta 0:00:08 0:00:08\u2588\u2588\u2588\u2588\u2588\u2588\u2588\u2588\u2588\u2588\u2588\u2588\u2588\u2588\u2588       | 99.6MB 4.5MB/s eta 0:00:07\u2588\u2588\u2588\u2588\u2588\u2588\u2588\u258d      | 100.9MB 3.8MB/s eta 0:00:07\u2588\u2588\u2588\u2588\u2588\u2588\u2588\u2588\u2588\u2588\u2588\u2588\u2588\u2588\u2588\u2588\u258c      | 101.4MB 3.8MB/s eta 0:00:07    |\u2588\u2588\u2588\u2588\u2588\u2588\u2588\u2588\u2588\u2588\u2588\u2588\u2588\u2588\u2588\u2588\u2588\u2588\u2588\u2588\u2588\u2588\u2588\u2588\u2588\u2589      | 102.6MB 3.8MB/s eta 0:00:07   | 108.1MB 3.8MB/s eta 0:00:05\ufffd\u2588\u2588\u2588\u2588\u2588\u2588\u2588\u2588\u2588\u2589    | 111.0MB 3.1MB/s eta 0:00:066\u2588\u2588\u2588\u2588\u2588\u258f  | 116.1MB 3.1MB/s eta 0:00:04     |\u2588\u2588\u2588\u2588\u2588\u2588\u2588\u2588\u2588\u2588\u2588\u2588\u2588\u2588\u2588\u2588\u2588\u2588\u2588\u2588\u2588\u2588\u2588\u2588\u2588\u2588\u2588\u2588\u2588\u2588  | 119.6MB 6.3MB/s eta 0:00:02\u2588\u2588\u2588\u2588\u2588\u2588\u2588\u2588\u2588\u2588\u2588\u2588\u2588\u2588\u2588\u2588\u2588\u2588\u2588\u2588\u2588\u2588\u2588\u2588\u2588\u2588\u2588\u2588\u2588\u2588\u258c | 121.4MB 6.3MB/s eta 0:00:01\u2588\u2588\u2588\u2588\u2588\u2588\u258c| 125.2MB 6.3MB/s eta 0:00:01\n\u001b[?25hCollecting torchvision==0.6.0+cpu\n\u001b[?25l  Downloading https://download.pytorch.org/whl/cpu/torchvision-0.6.0%2Bcpu-cp36-cp36m-linux_x86_64.whl (5.7MB)\n\u001b[K     |\u2588\u2588\u2588\u2588\u2588\u2588\u2588\u2588\u2588\u2588\u2588\u2588\u2588\u2588\u2588\u2588\u2588\u2588\u2588\u2588\u2588\u2588\u2588\u2588\u2588\u2588\u2588\u2588\u2588\u2588\u2588\u2588| 5.7MB 1.7MB/s eta 0:00:01                      | 1.7MB 1.7MB/s eta 0:00:03\ufffd\ufffd\u2588\u2588\u2588\u2588\u258f                  | 2.4MB 1.7MB/s eta 0:00:02B/s eta 0:00:01\n\u001b[?25hRequirement already satisfied: future in /opt/conda/envs/Python36/lib/python3.6/site-packages (from torch==1.5.0+cpu) (0.17.1)\nRequirement already satisfied: numpy in /opt/conda/envs/Python36/lib/python3.6/site-packages (from torch==1.5.0+cpu) (1.15.4)\nRequirement already satisfied: pillow>=4.1.1 in /opt/conda/envs/Python36/lib/python3.6/site-packages (from torchvision==0.6.0+cpu) (5.4.1)\nInstalling collected packages: torch, torchvision\nSuccessfully installed torch-1.5.0+cpu torchvision-0.6.0+cpu\nRequirement already satisfied: torchvision in /opt/conda/envs/Python36/lib/python3.6/site-packages (0.6.0+cpu)\nRequirement already satisfied: numpy in /opt/conda/envs/Python36/lib/python3.6/site-packages (from torchvision) (1.15.4)\nRequirement already satisfied: pillow>=4.1.1 in /opt/conda/envs/Python36/lib/python3.6/site-packages (from torchvision) (5.4.1)\nRequirement already satisfied: torch==1.5.0 in /opt/conda/envs/Python36/lib/python3.6/site-packages (from torchvision) (1.5.0+cpu)\nRequirement already satisfied: future in /opt/conda/envs/Python36/lib/python3.6/site-packages (from torch==1.5.0->torchvision) (0.17.1)\n"
                }
            ],
            "source": "!pip install torch==1.5.0+cpu torchvision==0.6.0+cpu -f https://download.pytorch.org/whl/torch_stable.html\n!pip install torchvision    "
        },
        {
            "cell_type": "code",
            "execution_count": 2,
            "metadata": {},
            "outputs": [],
            "source": "import torch as tc"
        },
        {
            "cell_type": "code",
            "execution_count": 4,
            "metadata": {},
            "outputs": [
                {
                    "ename": "RuntimeError",
                    "evalue": "Sizes of tensors must match except in dimension 1. Got 4 and 3 in dimension 0",
                    "output_type": "error",
                    "traceback": [
                        "\u001b[0;31m---------------------------------------------------------------------------\u001b[0m",
                        "\u001b[0;31mRuntimeError\u001b[0m                              Traceback (most recent call last)",
                        "\u001b[0;32m<ipython-input-4-6d1a12f3c7d0>\u001b[0m in \u001b[0;36m<module>\u001b[0;34m\u001b[0m\n\u001b[1;32m      1\u001b[0m \u001b[0mx\u001b[0m \u001b[0;34m=\u001b[0m \u001b[0mtc\u001b[0m\u001b[0;34m.\u001b[0m\u001b[0mrandn\u001b[0m\u001b[0;34m(\u001b[0m\u001b[0;36m4\u001b[0m\u001b[0;34m,\u001b[0m \u001b[0;36m3\u001b[0m\u001b[0;34m)\u001b[0m\u001b[0;34m\u001b[0m\u001b[0;34m\u001b[0m\u001b[0m\n\u001b[1;32m      2\u001b[0m \u001b[0my\u001b[0m \u001b[0;34m=\u001b[0m \u001b[0mtc\u001b[0m\u001b[0;34m.\u001b[0m\u001b[0mrandn\u001b[0m\u001b[0;34m(\u001b[0m\u001b[0;36m3\u001b[0m\u001b[0;34m,\u001b[0m \u001b[0;36m4\u001b[0m\u001b[0;34m)\u001b[0m\u001b[0;34m\u001b[0m\u001b[0;34m\u001b[0m\u001b[0m\n\u001b[0;32m----> 3\u001b[0;31m \u001b[0mz\u001b[0m \u001b[0;34m=\u001b[0m \u001b[0mtc\u001b[0m\u001b[0;34m.\u001b[0m\u001b[0mcat\u001b[0m\u001b[0;34m(\u001b[0m\u001b[0;34m[\u001b[0m\u001b[0mx\u001b[0m\u001b[0;34m,\u001b[0m \u001b[0my\u001b[0m\u001b[0;34m]\u001b[0m\u001b[0;34m,\u001b[0m \u001b[0;36m1\u001b[0m\u001b[0;34m)\u001b[0m\u001b[0;34m\u001b[0m\u001b[0;34m\u001b[0m\u001b[0m\n\u001b[0m",
                        "\u001b[0;31mRuntimeError\u001b[0m: Sizes of tensors must match except in dimension 1. Got 4 and 3 in dimension 0"
                    ]
                }
            ],
            "source": "x = tc.randn(4, 3)\ny = tc.randn(3, 4)\nz = tc.cat([x, y], 1)"
        }
    ],
    "metadata": {
        "kernelspec": {
            "display_name": "Python 3.6",
            "language": "python",
            "name": "python3"
        },
        "language_info": {
            "codemirror_mode": {
                "name": "ipython",
                "version": 3
            },
            "file_extension": ".py",
            "mimetype": "text/x-python",
            "name": "python",
            "nbconvert_exporter": "python",
            "pygments_lexer": "ipython3",
            "version": "3.6.9"
        }
    },
    "nbformat": 4,
    "nbformat_minor": 1
}